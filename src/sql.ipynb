{
 "cells": [
  {
   "cell_type": "code",
   "execution_count": 154,
   "id": "2b4e3c96-4516-4f53-8274-ba10dc85f68c",
   "metadata": {},
   "outputs": [],
   "source": [
    "import pandas as pd"
   ]
  },
  {
   "cell_type": "code",
   "execution_count": 155,
   "id": "330a81a0-9b2e-4ffa-b24f-4fe69b824865",
   "metadata": {},
   "outputs": [],
   "source": [
    "import sqlite3"
   ]
  },
  {
   "cell_type": "markdown",
   "id": "b1d728b7-82d4-4d44-ac78-302b063a2097",
   "metadata": {},
   "source": [
    "### Windspeed dataframe"
   ]
  },
  {
   "cell_type": "code",
   "execution_count": 192,
   "id": "66b3dab6-0485-41b3-8ae0-74be0e9bf5c8",
   "metadata": {},
   "outputs": [],
   "source": [
    "df_windspeed = pd.read_csv('../data/clean/wind_speed.csv')\n",
    "df_temperature = pd.read_csv('../data/clean/temperature.csv')\n",
    "df_precipitation = pd.read_csv('../data/clean/precipitation.csv')\n",
    "\n",
    "df_wildfires = pd.read_csv('../data/clean/wildfires.csv')"
   ]
  },
  {
   "cell_type": "code",
   "execution_count": 193,
   "id": "6c94b62b-685f-4ebe-930e-f7e0b1b5028a",
   "metadata": {},
   "outputs": [],
   "source": [
    "df_windspeed_melted = pd.melt(\n",
    "    df_windspeed, id_vars=['year', 'station_id', 'station_name'], var_name='seasons', value_name='windspeed'\n",
    ")\n",
    "\n",
    "df_temperature_melted = pd.melt(\n",
    "    df_temperature, id_vars=['year', 'station_id', 'station_name'], var_name='seasons', value_name='temperature'\n",
    ")\n",
    "\n",
    "df_precipitation_melted = pd.melt(\n",
    "    df_precipitation, id_vars=['year', 'station_id', 'station_name'], var_name='seasons', value_name='precipitation'\n",
    ")"
   ]
  },
  {
   "cell_type": "markdown",
   "id": "fe2d37a1-4539-4d3e-9265-434b49918d32",
   "metadata": {},
   "source": [
    "### Create SQL connection and analyze"
   ]
  },
  {
   "cell_type": "code",
   "execution_count": 182,
   "id": "37c1145b-fcca-405a-bdc6-91ba8b3cb37b",
   "metadata": {},
   "outputs": [],
   "source": [
    "## Create a connection\n",
    "conn = sqlite3.connect('new_df.db')"
   ]
  },
  {
   "cell_type": "code",
   "execution_count": 183,
   "id": "a8b5ad1e-a504-4be4-8722-847d3bfb9672",
   "metadata": {},
   "outputs": [
    {
     "data": {
      "text/plain": [
       "'Connected: @new_df.db'"
      ]
     },
     "execution_count": 183,
     "metadata": {},
     "output_type": "execute_result"
    }
   ],
   "source": [
    "%sql sqlite:///new_df.db"
   ]
  },
  {
   "cell_type": "code",
   "execution_count": 184,
   "id": "0ee90477-3a54-4c12-a3f4-f1bd2911240e",
   "metadata": {},
   "outputs": [
    {
     "name": "stdout",
     "output_type": "stream",
     "text": [
      "The sql extension is already loaded. To reload it, use:\n",
      "  %reload_ext sql\n"
     ]
    }
   ],
   "source": [
    "# This is a code cell\n",
    "# You can load the SQL extension here\n",
    "%load_ext sql\n"
   ]
  },
  {
   "cell_type": "code",
   "execution_count": null,
   "id": "c0b18c76-9535-4247-89d3-727119c17026",
   "metadata": {},
   "outputs": [],
   "source": []
  },
  {
   "cell_type": "markdown",
   "id": "93acc1a0-1e01-41ea-b1ad-b79745be96b3",
   "metadata": {},
   "source": [
    "### Create table for each database"
   ]
  },
  {
   "cell_type": "code",
   "execution_count": 194,
   "id": "37e81893-8d1b-4d9c-9e5f-dd5b3feae373",
   "metadata": {},
   "outputs": [
    {
     "name": "stdout",
     "output_type": "stream",
     "text": [
      "   sqlite:///dataframe.db\n",
      " * sqlite:///new_df.db\n",
      "Done.\n",
      "Done.\n",
      "Done.\n",
      "Done.\n"
     ]
    },
    {
     "data": {
      "text/plain": [
       "[]"
      ]
     },
     "execution_count": 194,
     "metadata": {},
     "output_type": "execute_result"
    }
   ],
   "source": [
    "%%sql\n",
    "\n",
    "drop table if exists windspeed;\n",
    "drop table if exists temperature;\n",
    "drop table if exists precipitation;\n",
    "drop table if exists wildfires;"
   ]
  },
  {
   "cell_type": "code",
   "execution_count": 195,
   "id": "af7f5f47-0715-424a-bfac-91ef7d1d3820",
   "metadata": {},
   "outputs": [
    {
     "data": {
      "text/plain": [
       "7343"
      ]
     },
     "execution_count": 195,
     "metadata": {},
     "output_type": "execute_result"
    }
   ],
   "source": [
    "df_windspeed_melted.to_sql('windspeed', conn)\n",
    "df_temperature_melted.to_sql('temperature', conn)\n",
    "df_precipitation_melted.to_sql('precipitation', conn)\n",
    "df_wildfires.to_sql('wildfires', conn)"
   ]
  },
  {
   "cell_type": "code",
   "execution_count": null,
   "id": "bf1f2e31-be5b-4222-9c0a-a7a3296023a8",
   "metadata": {},
   "outputs": [],
   "source": []
  },
  {
   "cell_type": "markdown",
   "id": "71a329e3-a611-490a-b709-23c96217c197",
   "metadata": {},
   "source": [
    "### Analysis"
   ]
  },
  {
   "cell_type": "code",
   "execution_count": 190,
   "id": "80642e46-3f1a-44f7-a706-cdde23fc564d",
   "metadata": {},
   "outputs": [
    {
     "name": "stdout",
     "output_type": "stream",
     "text": [
      "   sqlite:///dataframe.db\n",
      " * sqlite:///new_df.db\n",
      "Done.\n"
     ]
    },
    {
     "data": {
      "text/html": [
       "<table>\n",
       "    <thead>\n",
       "        <tr>\n",
       "            <th>index</th>\n",
       "            <th>year</th>\n",
       "            <th>station_id</th>\n",
       "            <th>station_name</th>\n",
       "            <th>seasons</th>\n",
       "            <th>windspeed</th>\n",
       "        </tr>\n",
       "    </thead>\n",
       "    <tbody>\n",
       "    </tbody>\n",
       "</table>"
      ],
      "text/plain": [
       "[]"
      ]
     },
     "execution_count": 190,
     "metadata": {},
     "output_type": "execute_result"
    }
   ],
   "source": [
    "%%sql\n",
    "\n",
    "Select *\n",
    "from windspeed\n",
    "where windspeed <0\n",
    ";"
   ]
  },
  {
   "cell_type": "code",
   "execution_count": 198,
   "id": "ce1d9ded-6f55-46b2-a361-7cf424048f03",
   "metadata": {},
   "outputs": [
    {
     "name": "stdout",
     "output_type": "stream",
     "text": [
      "   sqlite:///dataframe.db\n",
      " * sqlite:///new_df.db\n",
      "Done.\n"
     ]
    },
    {
     "data": {
      "text/html": [
       "<table>\n",
       "    <thead>\n",
       "        <tr>\n",
       "            <th>YEAR</th>\n",
       "            <th>count (distinct NFIREID)</th>\n",
       "        </tr>\n",
       "    </thead>\n",
       "    <tbody>\n",
       "        <tr>\n",
       "            <td>1986</td>\n",
       "            <td>124</td>\n",
       "        </tr>\n",
       "        <tr>\n",
       "            <td>1987</td>\n",
       "            <td>170</td>\n",
       "        </tr>\n",
       "        <tr>\n",
       "            <td>1988</td>\n",
       "            <td>89</td>\n",
       "        </tr>\n",
       "        <tr>\n",
       "            <td>1989</td>\n",
       "            <td>124</td>\n",
       "        </tr>\n",
       "        <tr>\n",
       "            <td>1990</td>\n",
       "            <td>128</td>\n",
       "        </tr>\n",
       "        <tr>\n",
       "            <td>1991</td>\n",
       "            <td>88</td>\n",
       "        </tr>\n",
       "        <tr>\n",
       "            <td>1992</td>\n",
       "            <td>85</td>\n",
       "        </tr>\n",
       "        <tr>\n",
       "            <td>1993</td>\n",
       "            <td>51</td>\n",
       "        </tr>\n",
       "        <tr>\n",
       "            <td>1994</td>\n",
       "            <td>119</td>\n",
       "        </tr>\n",
       "        <tr>\n",
       "            <td>1995</td>\n",
       "            <td>63</td>\n",
       "        </tr>\n",
       "        <tr>\n",
       "            <td>1996</td>\n",
       "            <td>46</td>\n",
       "        </tr>\n",
       "        <tr>\n",
       "            <td>1997</td>\n",
       "            <td>20</td>\n",
       "        </tr>\n",
       "        <tr>\n",
       "            <td>1998</td>\n",
       "            <td>162</td>\n",
       "        </tr>\n",
       "        <tr>\n",
       "            <td>1999</td>\n",
       "            <td>82</td>\n",
       "        </tr>\n",
       "        <tr>\n",
       "            <td>2000</td>\n",
       "            <td>81</td>\n",
       "        </tr>\n",
       "        <tr>\n",
       "            <td>2001</td>\n",
       "            <td>35</td>\n",
       "        </tr>\n",
       "        <tr>\n",
       "            <td>2002</td>\n",
       "            <td>40</td>\n",
       "        </tr>\n",
       "        <tr>\n",
       "            <td>2003</td>\n",
       "            <td>167</td>\n",
       "        </tr>\n",
       "        <tr>\n",
       "            <td>2004</td>\n",
       "            <td>148</td>\n",
       "        </tr>\n",
       "        <tr>\n",
       "            <td>2005</td>\n",
       "            <td>57</td>\n",
       "        </tr>\n",
       "        <tr>\n",
       "            <td>2006</td>\n",
       "            <td>247</td>\n",
       "        </tr>\n",
       "        <tr>\n",
       "            <td>2007</td>\n",
       "            <td>297</td>\n",
       "        </tr>\n",
       "        <tr>\n",
       "            <td>2008</td>\n",
       "            <td>363</td>\n",
       "        </tr>\n",
       "        <tr>\n",
       "            <td>2009</td>\n",
       "            <td>544</td>\n",
       "        </tr>\n",
       "        <tr>\n",
       "            <td>2010</td>\n",
       "            <td>348</td>\n",
       "        </tr>\n",
       "        <tr>\n",
       "            <td>2011</td>\n",
       "            <td>107</td>\n",
       "        </tr>\n",
       "        <tr>\n",
       "            <td>2012</td>\n",
       "            <td>296</td>\n",
       "        </tr>\n",
       "        <tr>\n",
       "            <td>2013</td>\n",
       "            <td>305</td>\n",
       "        </tr>\n",
       "        <tr>\n",
       "            <td>2014</td>\n",
       "            <td>318</td>\n",
       "        </tr>\n",
       "        <tr>\n",
       "            <td>2015</td>\n",
       "            <td>384</td>\n",
       "        </tr>\n",
       "        <tr>\n",
       "            <td>2016</td>\n",
       "            <td>208</td>\n",
       "        </tr>\n",
       "        <tr>\n",
       "            <td>2017</td>\n",
       "            <td>308</td>\n",
       "        </tr>\n",
       "        <tr>\n",
       "            <td>2018</td>\n",
       "            <td>636</td>\n",
       "        </tr>\n",
       "        <tr>\n",
       "            <td>2019</td>\n",
       "            <td>145</td>\n",
       "        </tr>\n",
       "        <tr>\n",
       "            <td>2020</td>\n",
       "            <td>107</td>\n",
       "        </tr>\n",
       "        <tr>\n",
       "            <td>2021</td>\n",
       "            <td>439</td>\n",
       "        </tr>\n",
       "        <tr>\n",
       "            <td>2022</td>\n",
       "            <td>380</td>\n",
       "        </tr>\n",
       "    </tbody>\n",
       "</table>"
      ],
      "text/plain": [
       "[(1986, 124),\n",
       " (1987, 170),\n",
       " (1988, 89),\n",
       " (1989, 124),\n",
       " (1990, 128),\n",
       " (1991, 88),\n",
       " (1992, 85),\n",
       " (1993, 51),\n",
       " (1994, 119),\n",
       " (1995, 63),\n",
       " (1996, 46),\n",
       " (1997, 20),\n",
       " (1998, 162),\n",
       " (1999, 82),\n",
       " (2000, 81),\n",
       " (2001, 35),\n",
       " (2002, 40),\n",
       " (2003, 167),\n",
       " (2004, 148),\n",
       " (2005, 57),\n",
       " (2006, 247),\n",
       " (2007, 297),\n",
       " (2008, 363),\n",
       " (2009, 544),\n",
       " (2010, 348),\n",
       " (2011, 107),\n",
       " (2012, 296),\n",
       " (2013, 305),\n",
       " (2014, 318),\n",
       " (2015, 384),\n",
       " (2016, 208),\n",
       " (2017, 308),\n",
       " (2018, 636),\n",
       " (2019, 145),\n",
       " (2020, 107),\n",
       " (2021, 439),\n",
       " (2022, 380)]"
      ]
     },
     "execution_count": 198,
     "metadata": {},
     "output_type": "execute_result"
    }
   ],
   "source": [
    "%%sql\n",
    "\n",
    "select year, count (distinct NFIREID), \n",
    "from wildfires\n",
    "group by year;"
   ]
  },
  {
   "cell_type": "code",
   "execution_count": null,
   "id": "63a5bd18-f56f-4862-9eb0-e832717f31e8",
   "metadata": {},
   "outputs": [],
   "source": []
  }
 ],
 "metadata": {
  "kernelspec": {
   "display_name": "Python [conda env:dsci513]",
   "language": "python",
   "name": "conda-env-dsci513-py"
  },
  "language_info": {
   "codemirror_mode": {
    "name": "ipython",
    "version": 3
   },
   "file_extension": ".py",
   "mimetype": "text/x-python",
   "name": "python",
   "nbconvert_exporter": "python",
   "pygments_lexer": "ipython3",
   "version": "3.11.0"
  }
 },
 "nbformat": 4,
 "nbformat_minor": 5
}
